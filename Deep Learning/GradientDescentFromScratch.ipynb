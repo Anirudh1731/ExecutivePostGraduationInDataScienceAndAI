{
 "cells": [
  {
   "cell_type": "code",
   "execution_count": 1,
   "id": "38dc6a92-c92c-40b8-87ab-884a90ba3ce3",
   "metadata": {},
   "outputs": [],
   "source": [
    "import numpy as np\n",
    "import pandas as pd\n",
    "import os\n",
    "import matplotlib.pyplot as plt\n",
    "import seaborn as sns"
   ]
  },
  {
   "cell_type": "code",
   "execution_count": 3,
   "id": "13b5f9cf-764c-4324-a9a2-e9c9793bcb44",
   "metadata": {},
   "outputs": [],
   "source": [
    "def cal_cost(theta,X,Y):\n",
    "    '''\n",
    "    Calculates the cost for given X and y\n",
    "      theta = vector of thetas\n",
    "      X = Matrix of X's with shape (m, n+1)\n",
    "      y = Vector of y's with shape (m, 1)\n",
    "    \n",
    "      where\n",
    "        m is the number of observations\n",
    "        n is the number of features/input variables\n",
    "    '''\n",
    "\n",
    "    m=len(y)\n",
    "    predictions=X.dot(theta)\n",
    "    cost=(1/(2*m))*np.sum(np.square(predictions-y))\n",
    "\n",
    "    return cost"
   ]
  },
  {
   "cell_type": "code",
   "execution_count": 4,
   "id": "9258ab00-6562-492e-9551-9ac6c8a9cf86",
   "metadata": {},
   "outputs": [],
   "source": [
    "# # Define the input matrix X (3 examples, 2 features including bias)\n",
    "# X = np.array([\n",
    "#     [1, 2],\n",
    "#     [1, 3],\n",
    "#     [1, 4]\n",
    "# ])\n",
    "\n",
    "# # Define the parameter vector theta\n",
    "# theta = np.array([0.5, 1.0])\n",
    "\n",
    "# # Perform the dot product\n",
    "# result = np.dot(X, theta)\n",
    "\n",
    "# # Print the result\n",
    "# result\n"
   ]
  },
  {
   "cell_type": "code",
   "execution_count": 21,
   "id": "f6203392-9e7a-47cb-859d-f7d6f47e7b8e",
   "metadata": {},
   "outputs": [],
   "source": [
    "def sgd(X,y,theta,learning_rate=0.01,epochs=10):\n",
    "    \n",
    "\n",
    "    m=len(y)\n",
    "    cost_history=np.zeros(epochs*m)\n",
    "    theta_history=np.zeros((epochs*m,theta.shape[0]))\n",
    "\n",
    "    for epoch in range(epochs):\n",
    "        for i in range(m):\n",
    "\n",
    "            rand_index=np.random.randint(0,m)\n",
    "            X_i=X[rand_index,:].reshape(1,X.shape[1])\n",
    "            y_i=y[rand_index,:].reshape(1,1)\n",
    "\n",
    "            prediction=X_i.dot(theta)\n",
    "            theta=theta-learning_rate*(X_i.T.dot(prediction-y_i))\n",
    "\n",
    "            cost = cal_cost(theta, X, y)\n",
    "            theta_history[epoch*m+i, :] = theta.T #2Parameters\n",
    "            cost_history[epoch*m+i] = cost # uni-dimension\n",
    "\n",
    "    return theta,cost_history,theta_history\n",
    "\n",
    "\n",
    "\n"
   ]
  },
  {
   "cell_type": "code",
   "execution_count": 22,
   "id": "869e73c2-f068-423f-a104-d48f85e3d635",
   "metadata": {},
   "outputs": [],
   "source": [
    "X = 2*np.random.rand(100,1) #random 100 data point"
   ]
  },
  {
   "cell_type": "code",
   "execution_count": 23,
   "id": "6d0754b4-522c-4740-bf27-59ba9e4b5ebd",
   "metadata": {},
   "outputs": [],
   "source": [
    "y = 4 + 2*X+ np.random.randn(100,1)"
   ]
  },
  {
   "cell_type": "code",
   "execution_count": 24,
   "id": "1c77e96b-b5bd-46fa-ad3a-fb443f404165",
   "metadata": {},
   "outputs": [
    {
     "name": "stdout",
     "output_type": "stream",
     "text": [
      "[[ 0.24033505]\n",
      " [-0.08001027]]\n"
     ]
    }
   ],
   "source": [
    "### Initialize theta\n",
    "theta = np.random.randn(2,1)\n",
    "print(theta)\n",
    "### Add the bias term (one column) to the feature matrix X\n",
    "X_b = np.c_[np.ones((len(X),1)),X] # concatenation"
   ]
  },
  {
   "cell_type": "code",
   "execution_count": 25,
   "id": "7b355fa0-8e4c-4b20-ae94-f277c38cae9c",
   "metadata": {},
   "outputs": [
    {
     "data": {
      "text/plain": [
       "array([[1.        , 1.9230274 ],\n",
       "       [1.        , 0.33813308],\n",
       "       [1.        , 1.06886511],\n",
       "       [1.        , 0.51079518],\n",
       "       [1.        , 0.51110094],\n",
       "       [1.        , 0.42546095],\n",
       "       [1.        , 0.60145157],\n",
       "       [1.        , 1.34868678],\n",
       "       [1.        , 1.11363832],\n",
       "       [1.        , 0.48098157],\n",
       "       [1.        , 1.55257449],\n",
       "       [1.        , 0.03135696],\n",
       "       [1.        , 0.30599712],\n",
       "       [1.        , 1.7299422 ],\n",
       "       [1.        , 1.3077111 ],\n",
       "       [1.        , 0.68615354],\n",
       "       [1.        , 1.82110671],\n",
       "       [1.        , 0.35326658],\n",
       "       [1.        , 1.33088051],\n",
       "       [1.        , 0.75806419],\n",
       "       [1.        , 0.81895043],\n",
       "       [1.        , 0.72000511],\n",
       "       [1.        , 0.64553383],\n",
       "       [1.        , 1.21851021],\n",
       "       [1.        , 1.77572694],\n",
       "       [1.        , 0.17122781],\n",
       "       [1.        , 1.5035625 ],\n",
       "       [1.        , 0.33856896],\n",
       "       [1.        , 0.23753267],\n",
       "       [1.        , 0.1378673 ],\n",
       "       [1.        , 1.44865356],\n",
       "       [1.        , 0.39968161],\n",
       "       [1.        , 0.35876463],\n",
       "       [1.        , 1.49434966],\n",
       "       [1.        , 0.47920985],\n",
       "       [1.        , 1.51592534],\n",
       "       [1.        , 1.89881942],\n",
       "       [1.        , 1.62368074],\n",
       "       [1.        , 1.79850998],\n",
       "       [1.        , 0.59961095],\n",
       "       [1.        , 0.7828242 ],\n",
       "       [1.        , 1.78659903],\n",
       "       [1.        , 1.93299231],\n",
       "       [1.        , 0.70957349],\n",
       "       [1.        , 1.24369563],\n",
       "       [1.        , 1.50443698],\n",
       "       [1.        , 1.58472497],\n",
       "       [1.        , 0.20354587],\n",
       "       [1.        , 0.57321693],\n",
       "       [1.        , 0.63621   ],\n",
       "       [1.        , 1.15493215],\n",
       "       [1.        , 1.0083279 ],\n",
       "       [1.        , 1.84653835],\n",
       "       [1.        , 0.13782064],\n",
       "       [1.        , 0.25863692],\n",
       "       [1.        , 0.36620066],\n",
       "       [1.        , 0.04217004],\n",
       "       [1.        , 0.69580215],\n",
       "       [1.        , 0.2490149 ],\n",
       "       [1.        , 1.69547597],\n",
       "       [1.        , 0.91185718],\n",
       "       [1.        , 1.71066221],\n",
       "       [1.        , 1.71480521],\n",
       "       [1.        , 1.85465504],\n",
       "       [1.        , 0.00253722],\n",
       "       [1.        , 0.23636308],\n",
       "       [1.        , 1.63072534],\n",
       "       [1.        , 0.05028475],\n",
       "       [1.        , 1.88695778],\n",
       "       [1.        , 0.97648562],\n",
       "       [1.        , 1.30168459],\n",
       "       [1.        , 0.02494523],\n",
       "       [1.        , 1.63433439],\n",
       "       [1.        , 1.20475588],\n",
       "       [1.        , 0.54506716],\n",
       "       [1.        , 0.75680786],\n",
       "       [1.        , 0.53281876],\n",
       "       [1.        , 0.91017245],\n",
       "       [1.        , 0.51248118],\n",
       "       [1.        , 1.70614882],\n",
       "       [1.        , 1.11929825],\n",
       "       [1.        , 1.57300163],\n",
       "       [1.        , 0.50111478],\n",
       "       [1.        , 1.46819502],\n",
       "       [1.        , 0.83505819],\n",
       "       [1.        , 1.25131963],\n",
       "       [1.        , 1.54424989],\n",
       "       [1.        , 0.73399078],\n",
       "       [1.        , 0.31133833],\n",
       "       [1.        , 1.52938752],\n",
       "       [1.        , 0.84053711],\n",
       "       [1.        , 0.40099803],\n",
       "       [1.        , 0.60787197],\n",
       "       [1.        , 1.23403694],\n",
       "       [1.        , 1.70612758],\n",
       "       [1.        , 1.33503148],\n",
       "       [1.        , 1.93700067],\n",
       "       [1.        , 0.14859309],\n",
       "       [1.        , 0.19273447],\n",
       "       [1.        , 1.2423655 ]])"
      ]
     },
     "execution_count": 25,
     "metadata": {},
     "output_type": "execute_result"
    }
   ],
   "source": [
    "X_b"
   ]
  },
  {
   "cell_type": "code",
   "execution_count": 26,
   "id": "02e92e81-d25c-4f6b-81dc-7d4e2b3dbcf8",
   "metadata": {},
   "outputs": [],
   "source": [
    "theta_sgd, cost_history_sgd, theta_history_sgd = sgd(X_b, y, theta,epochs=10)"
   ]
  },
  {
   "cell_type": "code",
   "execution_count": 27,
   "id": "37a1f8a4-0e70-4ed2-8c35-d13b825449b2",
   "metadata": {},
   "outputs": [
    {
     "data": {
      "text/plain": [
       "Text(0.5, 0.5, 'Final Cost: 0.437\\nTheta0: 3.623\\nTheta1: 2.253')"
      ]
     },
     "execution_count": 27,
     "metadata": {},
     "output_type": "execute_result"
    },
    {
     "data": {
      "image/png": "[encoded data removed]",
      "text/plain": [
       "<Figure size 1200x1200 with 1 Axes>"
      ]
     },
     "metadata": {},
     "output_type": "display_data"
    }
   ],
   "source": [
    "# Plotting cost history in separate subplots under the same chart\n",
    "plt.figure(figsize=(12,12)) #canvas ready\n",
    "\n",
    "# Plot for SGD\n",
    "plt.subplot(3,1,1)\n",
    "plt.plot(range(len(cost_history_sgd)), cost_history_sgd, label='SGD', color='red')\n",
    "plt.title('Cost vs iteration - Stochastic Gradient Descent')\n",
    "plt.xlabel('No. of epochs * m')\n",
    "plt.ylabel('Cost')\n",
    "plt.legend()\n",
    "plt.annotate(f'Final Cost: {cost_history_sgd[-1]:.3f}\\nTheta0: {theta_sgd[0][0]:.3f}\\nTheta1: {theta_sgd[1][0]:.3f}',\n",
    "             xy=(0.5, 0.5), xycoords='axes fraction',\n",
    "             bbox=dict(boxstyle=\"round,pad=0.3\", edgecolor='black', facecolor='lightgray'), fontsize=12)\n"
   ]
  },
  {
   "cell_type": "code",
   "execution_count": null,
   "id": "f4e4ccfa-d473-4c3e-b404-e53d896f1244",
   "metadata": {},
   "outputs": [],
   "source": []
  }
 ],
 "metadata": {
  "kernelspec": {
   "display_name": "Python 3 (ipykernel)",
   "language": "python",
   "name": "python3"
  },
  "language_info": {
   "codemirror_mode": {
    "name": "ipython",
    "version": 3
   },
   "file_extension": ".py",
   "mimetype": "text/x-python",
   "name": "python",
   "nbconvert_exporter": "python",
   "pygments_lexer": "ipython3",
   "version": "3.11.7"
  }
 },
 "nbformat": 4,
 "nbformat_minor": 5
}
